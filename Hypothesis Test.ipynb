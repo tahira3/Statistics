{
 "cells": [
  {
   "cell_type": "code",
   "execution_count": 1,
   "id": "9eb29aef",
   "metadata": {},
   "outputs": [],
   "source": [
    "import pandas as pd\n",
    "import numpy as np\n",
    "import matplotlib\n",
    "matplotlib.use('Agg')\n",
    "import seaborn as sns\n",
    "%matplotlib inline\n",
    "import matplotlib.pyplot as plt\n",
    "import statsmodels.api as sm\n",
    "from scipy import stats"
   ]
  },
  {
   "cell_type": "code",
   "execution_count": 2,
   "id": "80cde8a8",
   "metadata": {},
   "outputs": [],
   "source": [
    "df=pd.read_csv(\"C://Users//Admin//Desktop//Predicting Fuel Economy//Dengue Fever Hematological Dataset//Dengue-Dataset.csv\")"
   ]
  },
  {
   "cell_type": "code",
   "execution_count": 3,
   "id": "6a70b4e3",
   "metadata": {},
   "outputs": [
    {
     "data": {
      "text/html": [
       "<div>\n",
       "<style scoped>\n",
       "    .dataframe tbody tr th:only-of-type {\n",
       "        vertical-align: middle;\n",
       "    }\n",
       "\n",
       "    .dataframe tbody tr th {\n",
       "        vertical-align: top;\n",
       "    }\n",
       "\n",
       "    .dataframe thead th {\n",
       "        text-align: right;\n",
       "    }\n",
       "</style>\n",
       "<table border=\"1\" class=\"dataframe\">\n",
       "  <thead>\n",
       "    <tr style=\"text-align: right;\">\n",
       "      <th></th>\n",
       "      <th>Gender</th>\n",
       "      <th>Age</th>\n",
       "      <th>Hemoglobin(g/dl)</th>\n",
       "      <th>Neutrophils(%)</th>\n",
       "      <th>Lymphocytes(%)</th>\n",
       "      <th>Monocytes(%)</th>\n",
       "      <th>Eosinophils(%)</th>\n",
       "      <th>RBC</th>\n",
       "      <th>HCT(%)</th>\n",
       "      <th>MCV(fl)</th>\n",
       "      <th>MCH(pg)</th>\n",
       "      <th>MCHC(g/dl)</th>\n",
       "      <th>RDW-CV(%)</th>\n",
       "      <th>Total Platelet Count(/cumm)</th>\n",
       "      <th>MPV(fl)</th>\n",
       "      <th>PDW(%)</th>\n",
       "      <th>PCT(%)</th>\n",
       "      <th>Total WBC count(/cumm)</th>\n",
       "      <th>Result</th>\n",
       "    </tr>\n",
       "  </thead>\n",
       "  <tbody>\n",
       "    <tr>\n",
       "      <th>0</th>\n",
       "      <td>Male</td>\n",
       "      <td>21</td>\n",
       "      <td>14.8</td>\n",
       "      <td>48</td>\n",
       "      <td>47</td>\n",
       "      <td>3</td>\n",
       "      <td>2</td>\n",
       "      <td>5</td>\n",
       "      <td>48.00</td>\n",
       "      <td>96.0</td>\n",
       "      <td>29.60</td>\n",
       "      <td>30.8</td>\n",
       "      <td>11.6</td>\n",
       "      <td>112000</td>\n",
       "      <td>10.70</td>\n",
       "      <td>15.40</td>\n",
       "      <td>0.120</td>\n",
       "      <td>5100</td>\n",
       "      <td>positive</td>\n",
       "    </tr>\n",
       "    <tr>\n",
       "      <th>1</th>\n",
       "      <td>Male</td>\n",
       "      <td>30</td>\n",
       "      <td>15.0</td>\n",
       "      <td>47</td>\n",
       "      <td>49</td>\n",
       "      <td>6</td>\n",
       "      <td>3</td>\n",
       "      <td>5</td>\n",
       "      <td>49.80</td>\n",
       "      <td>96.1</td>\n",
       "      <td>28.40</td>\n",
       "      <td>29.5</td>\n",
       "      <td>11.8</td>\n",
       "      <td>96000</td>\n",
       "      <td>10.60</td>\n",
       "      <td>15.80</td>\n",
       "      <td>0.121</td>\n",
       "      <td>4500</td>\n",
       "      <td>positive</td>\n",
       "    </tr>\n",
       "    <tr>\n",
       "      <th>2</th>\n",
       "      <td>Male</td>\n",
       "      <td>51</td>\n",
       "      <td>16.3</td>\n",
       "      <td>41</td>\n",
       "      <td>48</td>\n",
       "      <td>4</td>\n",
       "      <td>5</td>\n",
       "      <td>5</td>\n",
       "      <td>50.10</td>\n",
       "      <td>93.5</td>\n",
       "      <td>31.30</td>\n",
       "      <td>32.7</td>\n",
       "      <td>13.5</td>\n",
       "      <td>184000</td>\n",
       "      <td>10.40</td>\n",
       "      <td>16.40</td>\n",
       "      <td>0.130</td>\n",
       "      <td>6000</td>\n",
       "      <td>negative</td>\n",
       "    </tr>\n",
       "    <tr>\n",
       "      <th>3</th>\n",
       "      <td>Female</td>\n",
       "      <td>26</td>\n",
       "      <td>12.3</td>\n",
       "      <td>46</td>\n",
       "      <td>49</td>\n",
       "      <td>7</td>\n",
       "      <td>5</td>\n",
       "      <td>5</td>\n",
       "      <td>44.00</td>\n",
       "      <td>90.0</td>\n",
       "      <td>30.50</td>\n",
       "      <td>30.5</td>\n",
       "      <td>14.7</td>\n",
       "      <td>167000</td>\n",
       "      <td>8.10</td>\n",
       "      <td>17.10</td>\n",
       "      <td>0.110</td>\n",
       "      <td>5000</td>\n",
       "      <td>negative</td>\n",
       "    </tr>\n",
       "    <tr>\n",
       "      <th>4</th>\n",
       "      <td>Male</td>\n",
       "      <td>35</td>\n",
       "      <td>16.1</td>\n",
       "      <td>45</td>\n",
       "      <td>46</td>\n",
       "      <td>4</td>\n",
       "      <td>4</td>\n",
       "      <td>5</td>\n",
       "      <td>50.53</td>\n",
       "      <td>91.0</td>\n",
       "      <td>29.12</td>\n",
       "      <td>29.2</td>\n",
       "      <td>15.2</td>\n",
       "      <td>155000</td>\n",
       "      <td>10.52</td>\n",
       "      <td>12.34</td>\n",
       "      <td>0.150</td>\n",
       "      <td>4600</td>\n",
       "      <td>negative</td>\n",
       "    </tr>\n",
       "  </tbody>\n",
       "</table>\n",
       "</div>"
      ],
      "text/plain": [
       "   Gender  Age  Hemoglobin(g/dl)  Neutrophils(%)  Lymphocytes(%)  \\\n",
       "0    Male   21              14.8              48              47   \n",
       "1    Male   30              15.0              47              49   \n",
       "2    Male   51              16.3              41              48   \n",
       "3  Female   26              12.3              46              49   \n",
       "4    Male   35              16.1              45              46   \n",
       "\n",
       "   Monocytes(%)  Eosinophils(%)  RBC  HCT(%)  MCV(fl)  MCH(pg)  MCHC(g/dl)  \\\n",
       "0             3               2    5   48.00     96.0    29.60        30.8   \n",
       "1             6               3    5   49.80     96.1    28.40        29.5   \n",
       "2             4               5    5   50.10     93.5    31.30        32.7   \n",
       "3             7               5    5   44.00     90.0    30.50        30.5   \n",
       "4             4               4    5   50.53     91.0    29.12        29.2   \n",
       "\n",
       "   RDW-CV(%)  Total Platelet Count(/cumm)  MPV(fl)  PDW(%)  PCT(%)  \\\n",
       "0       11.6                       112000    10.70   15.40   0.120   \n",
       "1       11.8                        96000    10.60   15.80   0.121   \n",
       "2       13.5                       184000    10.40   16.40   0.130   \n",
       "3       14.7                       167000     8.10   17.10   0.110   \n",
       "4       15.2                       155000    10.52   12.34   0.150   \n",
       "\n",
       "   Total WBC count(/cumm)    Result  \n",
       "0                    5100  positive  \n",
       "1                    4500  positive  \n",
       "2                    6000  negative  \n",
       "3                    5000  negative  \n",
       "4                    4600  negative  "
      ]
     },
     "execution_count": 3,
     "metadata": {},
     "output_type": "execute_result"
    }
   ],
   "source": [
    "df.head()"
   ]
  },
  {
   "cell_type": "code",
   "execution_count": 4,
   "id": "6f67edbf",
   "metadata": {},
   "outputs": [
    {
     "name": "stdout",
     "output_type": "stream",
     "text": [
      "<class 'pandas.core.frame.DataFrame'>\n",
      "RangeIndex: 1523 entries, 0 to 1522\n",
      "Data columns (total 19 columns):\n",
      " #   Column                       Non-Null Count  Dtype  \n",
      "---  ------                       --------------  -----  \n",
      " 0   Gender                       1523 non-null   object \n",
      " 1   Age                          1523 non-null   int64  \n",
      " 2   Hemoglobin(g/dl)             1523 non-null   float64\n",
      " 3   Neutrophils(%)               1523 non-null   int64  \n",
      " 4   Lymphocytes(%)               1523 non-null   int64  \n",
      " 5   Monocytes(%)                 1523 non-null   int64  \n",
      " 6   Eosinophils(%)               1523 non-null   int64  \n",
      " 7   RBC                          1523 non-null   int64  \n",
      " 8   HCT(%)                       1523 non-null   float64\n",
      " 9   MCV(fl)                      1523 non-null   float64\n",
      " 10  MCH(pg)                      1523 non-null   float64\n",
      " 11  MCHC(g/dl)                   1523 non-null   float64\n",
      " 12  RDW-CV(%)                    1523 non-null   float64\n",
      " 13  Total Platelet Count(/cumm)  1523 non-null   int64  \n",
      " 14  MPV(fl)                      1523 non-null   float64\n",
      " 15  PDW(%)                       1523 non-null   float64\n",
      " 16  PCT(%)                       1523 non-null   float64\n",
      " 17  Total WBC count(/cumm)       1523 non-null   int64  \n",
      " 18  Result                       1523 non-null   object \n",
      "dtypes: float64(9), int64(8), object(2)\n",
      "memory usage: 226.2+ KB\n"
     ]
    }
   ],
   "source": [
    "df.info()"
   ]
  },
  {
   "cell_type": "code",
   "execution_count": 5,
   "id": "ba8ed636",
   "metadata": {},
   "outputs": [
    {
     "data": {
      "text/html": [
       "<div>\n",
       "<style scoped>\n",
       "    .dataframe tbody tr th:only-of-type {\n",
       "        vertical-align: middle;\n",
       "    }\n",
       "\n",
       "    .dataframe tbody tr th {\n",
       "        vertical-align: top;\n",
       "    }\n",
       "\n",
       "    .dataframe thead th {\n",
       "        text-align: right;\n",
       "    }\n",
       "</style>\n",
       "<table border=\"1\" class=\"dataframe\">\n",
       "  <thead>\n",
       "    <tr style=\"text-align: right;\">\n",
       "      <th></th>\n",
       "      <th>Gender</th>\n",
       "      <th>Age</th>\n",
       "      <th>Hemoglobin(g/dl)</th>\n",
       "      <th>Neutrophils(%)</th>\n",
       "      <th>Lymphocytes(%)</th>\n",
       "      <th>Monocytes(%)</th>\n",
       "      <th>Eosinophils(%)</th>\n",
       "      <th>RBC</th>\n",
       "      <th>HCT(%)</th>\n",
       "      <th>MCV(fl)</th>\n",
       "      <th>MCH(pg)</th>\n",
       "      <th>MCHC(g/dl)</th>\n",
       "      <th>RDW-CV(%)</th>\n",
       "      <th>Total Platelet Count(/cumm)</th>\n",
       "      <th>MPV(fl)</th>\n",
       "      <th>PDW(%)</th>\n",
       "      <th>PCT(%)</th>\n",
       "      <th>Total WBC count(/cumm)</th>\n",
       "      <th>Result</th>\n",
       "    </tr>\n",
       "  </thead>\n",
       "  <tbody>\n",
       "    <tr>\n",
       "      <th>count</th>\n",
       "      <td>1523</td>\n",
       "      <td>1523.000000</td>\n",
       "      <td>1523.000000</td>\n",
       "      <td>1523.000000</td>\n",
       "      <td>1523.000000</td>\n",
       "      <td>1523.000000</td>\n",
       "      <td>1523.000000</td>\n",
       "      <td>1523.000000</td>\n",
       "      <td>1523.000000</td>\n",
       "      <td>1523.000000</td>\n",
       "      <td>1523.000000</td>\n",
       "      <td>1523.000000</td>\n",
       "      <td>1523.000000</td>\n",
       "      <td>1523.000000</td>\n",
       "      <td>1523.000000</td>\n",
       "      <td>1523.000000</td>\n",
       "      <td>1523.000000</td>\n",
       "      <td>1523.000000</td>\n",
       "      <td>1523</td>\n",
       "    </tr>\n",
       "    <tr>\n",
       "      <th>unique</th>\n",
       "      <td>2</td>\n",
       "      <td>NaN</td>\n",
       "      <td>NaN</td>\n",
       "      <td>NaN</td>\n",
       "      <td>NaN</td>\n",
       "      <td>NaN</td>\n",
       "      <td>NaN</td>\n",
       "      <td>NaN</td>\n",
       "      <td>NaN</td>\n",
       "      <td>NaN</td>\n",
       "      <td>NaN</td>\n",
       "      <td>NaN</td>\n",
       "      <td>NaN</td>\n",
       "      <td>NaN</td>\n",
       "      <td>NaN</td>\n",
       "      <td>NaN</td>\n",
       "      <td>NaN</td>\n",
       "      <td>NaN</td>\n",
       "      <td>2</td>\n",
       "    </tr>\n",
       "    <tr>\n",
       "      <th>top</th>\n",
       "      <td>Female</td>\n",
       "      <td>NaN</td>\n",
       "      <td>NaN</td>\n",
       "      <td>NaN</td>\n",
       "      <td>NaN</td>\n",
       "      <td>NaN</td>\n",
       "      <td>NaN</td>\n",
       "      <td>NaN</td>\n",
       "      <td>NaN</td>\n",
       "      <td>NaN</td>\n",
       "      <td>NaN</td>\n",
       "      <td>NaN</td>\n",
       "      <td>NaN</td>\n",
       "      <td>NaN</td>\n",
       "      <td>NaN</td>\n",
       "      <td>NaN</td>\n",
       "      <td>NaN</td>\n",
       "      <td>NaN</td>\n",
       "      <td>positive</td>\n",
       "    </tr>\n",
       "    <tr>\n",
       "      <th>freq</th>\n",
       "      <td>805</td>\n",
       "      <td>NaN</td>\n",
       "      <td>NaN</td>\n",
       "      <td>NaN</td>\n",
       "      <td>NaN</td>\n",
       "      <td>NaN</td>\n",
       "      <td>NaN</td>\n",
       "      <td>NaN</td>\n",
       "      <td>NaN</td>\n",
       "      <td>NaN</td>\n",
       "      <td>NaN</td>\n",
       "      <td>NaN</td>\n",
       "      <td>NaN</td>\n",
       "      <td>NaN</td>\n",
       "      <td>NaN</td>\n",
       "      <td>NaN</td>\n",
       "      <td>NaN</td>\n",
       "      <td>NaN</td>\n",
       "      <td>1042</td>\n",
       "    </tr>\n",
       "    <tr>\n",
       "      <th>mean</th>\n",
       "      <td>NaN</td>\n",
       "      <td>40.310571</td>\n",
       "      <td>14.513451</td>\n",
       "      <td>44.484570</td>\n",
       "      <td>43.559422</td>\n",
       "      <td>3.270519</td>\n",
       "      <td>3.083388</td>\n",
       "      <td>4.765594</td>\n",
       "      <td>45.189280</td>\n",
       "      <td>89.815561</td>\n",
       "      <td>29.897225</td>\n",
       "      <td>32.050271</td>\n",
       "      <td>13.635792</td>\n",
       "      <td>173127.170716</td>\n",
       "      <td>9.588806</td>\n",
       "      <td>15.312966</td>\n",
       "      <td>0.289080</td>\n",
       "      <td>5483.024951</td>\n",
       "      <td>NaN</td>\n",
       "    </tr>\n",
       "    <tr>\n",
       "      <th>std</th>\n",
       "      <td>NaN</td>\n",
       "      <td>15.286190</td>\n",
       "      <td>1.627142</td>\n",
       "      <td>4.344736</td>\n",
       "      <td>4.972815</td>\n",
       "      <td>1.209507</td>\n",
       "      <td>1.000791</td>\n",
       "      <td>0.722874</td>\n",
       "      <td>3.566435</td>\n",
       "      <td>5.515619</td>\n",
       "      <td>2.026022</td>\n",
       "      <td>1.551697</td>\n",
       "      <td>1.430746</td>\n",
       "      <td>64832.681751</td>\n",
       "      <td>0.848706</td>\n",
       "      <td>1.405457</td>\n",
       "      <td>5.992864</td>\n",
       "      <td>1137.344040</td>\n",
       "      <td>NaN</td>\n",
       "    </tr>\n",
       "    <tr>\n",
       "      <th>min</th>\n",
       "      <td>NaN</td>\n",
       "      <td>5.000000</td>\n",
       "      <td>10.400000</td>\n",
       "      <td>29.000000</td>\n",
       "      <td>29.000000</td>\n",
       "      <td>2.000000</td>\n",
       "      <td>1.000000</td>\n",
       "      <td>4.000000</td>\n",
       "      <td>36.300000</td>\n",
       "      <td>80.000000</td>\n",
       "      <td>22.900000</td>\n",
       "      <td>27.080000</td>\n",
       "      <td>11.000000</td>\n",
       "      <td>56000.000000</td>\n",
       "      <td>7.500000</td>\n",
       "      <td>8.400000</td>\n",
       "      <td>0.000020</td>\n",
       "      <td>3500.000000</td>\n",
       "      <td>NaN</td>\n",
       "    </tr>\n",
       "    <tr>\n",
       "      <th>25%</th>\n",
       "      <td>NaN</td>\n",
       "      <td>28.000000</td>\n",
       "      <td>13.200000</td>\n",
       "      <td>42.000000</td>\n",
       "      <td>41.000000</td>\n",
       "      <td>2.000000</td>\n",
       "      <td>2.000000</td>\n",
       "      <td>4.000000</td>\n",
       "      <td>42.595000</td>\n",
       "      <td>85.100000</td>\n",
       "      <td>28.400000</td>\n",
       "      <td>30.900000</td>\n",
       "      <td>12.400000</td>\n",
       "      <td>114907.000000</td>\n",
       "      <td>8.900000</td>\n",
       "      <td>14.230000</td>\n",
       "      <td>0.106000</td>\n",
       "      <td>4626.000000</td>\n",
       "      <td>NaN</td>\n",
       "    </tr>\n",
       "    <tr>\n",
       "      <th>50%</th>\n",
       "      <td>NaN</td>\n",
       "      <td>39.000000</td>\n",
       "      <td>14.600000</td>\n",
       "      <td>45.000000</td>\n",
       "      <td>44.000000</td>\n",
       "      <td>3.000000</td>\n",
       "      <td>3.000000</td>\n",
       "      <td>5.000000</td>\n",
       "      <td>45.550000</td>\n",
       "      <td>89.700000</td>\n",
       "      <td>30.000000</td>\n",
       "      <td>32.000000</td>\n",
       "      <td>13.800000</td>\n",
       "      <td>167385.000000</td>\n",
       "      <td>9.660000</td>\n",
       "      <td>15.260000</td>\n",
       "      <td>0.141000</td>\n",
       "      <td>5397.000000</td>\n",
       "      <td>NaN</td>\n",
       "    </tr>\n",
       "    <tr>\n",
       "      <th>75%</th>\n",
       "      <td>NaN</td>\n",
       "      <td>53.000000</td>\n",
       "      <td>15.800000</td>\n",
       "      <td>48.000000</td>\n",
       "      <td>47.000000</td>\n",
       "      <td>4.000000</td>\n",
       "      <td>4.000000</td>\n",
       "      <td>5.000000</td>\n",
       "      <td>47.840000</td>\n",
       "      <td>94.200000</td>\n",
       "      <td>31.400000</td>\n",
       "      <td>33.200000</td>\n",
       "      <td>14.700000</td>\n",
       "      <td>228649.500000</td>\n",
       "      <td>10.283000</td>\n",
       "      <td>16.400000</td>\n",
       "      <td>0.173000</td>\n",
       "      <td>6131.500000</td>\n",
       "      <td>NaN</td>\n",
       "    </tr>\n",
       "    <tr>\n",
       "      <th>max</th>\n",
       "      <td>NaN</td>\n",
       "      <td>78.000000</td>\n",
       "      <td>17.500000</td>\n",
       "      <td>60.000000</td>\n",
       "      <td>56.000000</td>\n",
       "      <td>9.000000</td>\n",
       "      <td>9.000000</td>\n",
       "      <td>7.000000</td>\n",
       "      <td>51.980000</td>\n",
       "      <td>100.000000</td>\n",
       "      <td>34.000000</td>\n",
       "      <td>35.000000</td>\n",
       "      <td>21.330000</td>\n",
       "      <td>299803.000000</td>\n",
       "      <td>11.235000</td>\n",
       "      <td>17.990000</td>\n",
       "      <td>234.000000</td>\n",
       "      <td>14900.000000</td>\n",
       "      <td>NaN</td>\n",
       "    </tr>\n",
       "  </tbody>\n",
       "</table>\n",
       "</div>"
      ],
      "text/plain": [
       "        Gender          Age  Hemoglobin(g/dl)  Neutrophils(%)  Lymphocytes(%)  \\\n",
       "count     1523  1523.000000       1523.000000     1523.000000     1523.000000   \n",
       "unique       2          NaN               NaN             NaN             NaN   \n",
       "top     Female          NaN               NaN             NaN             NaN   \n",
       "freq       805          NaN               NaN             NaN             NaN   \n",
       "mean       NaN    40.310571         14.513451       44.484570       43.559422   \n",
       "std        NaN    15.286190          1.627142        4.344736        4.972815   \n",
       "min        NaN     5.000000         10.400000       29.000000       29.000000   \n",
       "25%        NaN    28.000000         13.200000       42.000000       41.000000   \n",
       "50%        NaN    39.000000         14.600000       45.000000       44.000000   \n",
       "75%        NaN    53.000000         15.800000       48.000000       47.000000   \n",
       "max        NaN    78.000000         17.500000       60.000000       56.000000   \n",
       "\n",
       "        Monocytes(%)  Eosinophils(%)          RBC       HCT(%)      MCV(fl)  \\\n",
       "count    1523.000000     1523.000000  1523.000000  1523.000000  1523.000000   \n",
       "unique           NaN             NaN          NaN          NaN          NaN   \n",
       "top              NaN             NaN          NaN          NaN          NaN   \n",
       "freq             NaN             NaN          NaN          NaN          NaN   \n",
       "mean        3.270519        3.083388     4.765594    45.189280    89.815561   \n",
       "std         1.209507        1.000791     0.722874     3.566435     5.515619   \n",
       "min         2.000000        1.000000     4.000000    36.300000    80.000000   \n",
       "25%         2.000000        2.000000     4.000000    42.595000    85.100000   \n",
       "50%         3.000000        3.000000     5.000000    45.550000    89.700000   \n",
       "75%         4.000000        4.000000     5.000000    47.840000    94.200000   \n",
       "max         9.000000        9.000000     7.000000    51.980000   100.000000   \n",
       "\n",
       "            MCH(pg)   MCHC(g/dl)    RDW-CV(%)  Total Platelet Count(/cumm)  \\\n",
       "count   1523.000000  1523.000000  1523.000000                  1523.000000   \n",
       "unique          NaN          NaN          NaN                          NaN   \n",
       "top             NaN          NaN          NaN                          NaN   \n",
       "freq            NaN          NaN          NaN                          NaN   \n",
       "mean      29.897225    32.050271    13.635792                173127.170716   \n",
       "std        2.026022     1.551697     1.430746                 64832.681751   \n",
       "min       22.900000    27.080000    11.000000                 56000.000000   \n",
       "25%       28.400000    30.900000    12.400000                114907.000000   \n",
       "50%       30.000000    32.000000    13.800000                167385.000000   \n",
       "75%       31.400000    33.200000    14.700000                228649.500000   \n",
       "max       34.000000    35.000000    21.330000                299803.000000   \n",
       "\n",
       "            MPV(fl)       PDW(%)       PCT(%)  Total WBC count(/cumm)  \\\n",
       "count   1523.000000  1523.000000  1523.000000             1523.000000   \n",
       "unique          NaN          NaN          NaN                     NaN   \n",
       "top             NaN          NaN          NaN                     NaN   \n",
       "freq            NaN          NaN          NaN                     NaN   \n",
       "mean       9.588806    15.312966     0.289080             5483.024951   \n",
       "std        0.848706     1.405457     5.992864             1137.344040   \n",
       "min        7.500000     8.400000     0.000020             3500.000000   \n",
       "25%        8.900000    14.230000     0.106000             4626.000000   \n",
       "50%        9.660000    15.260000     0.141000             5397.000000   \n",
       "75%       10.283000    16.400000     0.173000             6131.500000   \n",
       "max       11.235000    17.990000   234.000000            14900.000000   \n",
       "\n",
       "          Result  \n",
       "count       1523  \n",
       "unique         2  \n",
       "top     positive  \n",
       "freq        1042  \n",
       "mean         NaN  \n",
       "std          NaN  \n",
       "min          NaN  \n",
       "25%          NaN  \n",
       "50%          NaN  \n",
       "75%          NaN  \n",
       "max          NaN  "
      ]
     },
     "execution_count": 5,
     "metadata": {},
     "output_type": "execute_result"
    }
   ],
   "source": [
    "df.describe(include='all')"
   ]
  },
  {
   "cell_type": "markdown",
   "id": "3ce902b3",
   "metadata": {},
   "source": [
    "### 1.Difference in Population Means - Age and Dengue Result\n",
    "#### Research Question \n",
    "Is there a significant difference in the mean age of patients with positive and negative dengue test results.\n",
    "\n",
    "**Population**: Population with positive/negetive test result</br>\n",
    "**Parameter of Interest**: $\\mu_1 - \\mu_2$, Age.  \n",
    "**Null Hypothesis:** $\\mu_1 = \\mu_2$  \n",
    "**Alternative Hypthosis:** $\\mu_1 \\neq \\mu_2$  (this is a Two-sided test)</br>"
   ]
  },
  {
   "cell_type": "code",
   "execution_count": 6,
   "id": "6302391a",
   "metadata": {},
   "outputs": [],
   "source": [
    "# df.groupby(\"Result\").agg({\"Age\": [np.mean, np.std, np.size]})"
   ]
  },
  {
   "cell_type": "code",
   "execution_count": 7,
   "id": "7d27e5a1",
   "metadata": {},
   "outputs": [],
   "source": [
    "positive_case = df[df[\"Result\"] == 'positive']\n",
    "negative_case = df[df[\"Result\"] == 'negative']"
   ]
  },
  {
   "cell_type": "code",
   "execution_count": 8,
   "id": "abf9897f",
   "metadata": {},
   "outputs": [
    {
     "data": {
      "image/png": "[encoded data removed]",
      "text/plain": [
       "<Figure size 640x480 with 1 Axes>"
      ]
     },
     "metadata": {},
     "output_type": "display_data"
    }
   ],
   "source": [
    "sns.kdeplot(positive_case.Age, label='test_positive', color='blue', alpha=0.5)\n",
    "sns.kdeplot(negative_case.Age, label='test_negative',  color='green', alpha=0.5)\n",
    "\n",
    "mean1 = np.mean(positive_case.Age)\n",
    "mean2 = np.mean(negative_case.Age)\n",
    "\n",
    "# Add points or lines for means\n",
    "plt.axvline(mean1, color='blue', linestyle='-', label=f' Mean1 ({mean1:.2f})')\n",
    "plt.axvline(mean2, color='green', linestyle='-', label=f' Mean2 ({mean2:.2f})')\n",
    "\n",
    "plt.title(\"Distribution Plot for Two Groups(positive and negative)\")\n",
    "plt.xlabel(\"Value\")\n",
    "plt.ylabel(\"Density\")\n",
    "plt.legend()\n",
    "plt.show()"
   ]
  },
  {
   "cell_type": "code",
   "execution_count": 9,
   "id": "832f543d",
   "metadata": {},
   "outputs": [
    {
     "data": {
      "text/plain": [
       "(1042, 41.24856046065259, 15.194753089826703)"
      ]
     },
     "execution_count": 9,
     "metadata": {},
     "output_type": "execute_result"
    }
   ],
   "source": [
    "n1 = len(positive_case)\n",
    "mu1 = positive_case.Age.mean() \n",
    "sd1 = positive_case.Age.std() \n",
    "(n1, mu1, sd1)"
   ]
  },
  {
   "cell_type": "code",
   "execution_count": 10,
   "id": "242961a6",
   "metadata": {},
   "outputs": [
    {
     "data": {
      "text/plain": [
       "(481, 38.27858627858628, 15.30200623003058)"
      ]
     },
     "execution_count": 10,
     "metadata": {},
     "output_type": "execute_result"
    }
   ],
   "source": [
    "n2 = len(negative_case)\n",
    "mu2 = negative_case.Age.mean()\n",
    "sd2 = negative_case.Age.std()\n",
    "(n2, mu2, sd2)"
   ]
  },
  {
   "cell_type": "code",
   "execution_count": 11,
   "id": "bdb7096a",
   "metadata": {},
   "outputs": [
    {
     "data": {
      "text/plain": [
       "0.8416505409627353"
      ]
     },
     "execution_count": 11,
     "metadata": {},
     "output_type": "execute_result"
    }
   ],
   "source": [
    "se = np.sqrt(sd1**2/n1+sd2**2/n2) # Standard Error\n",
    "se"
   ]
  },
  {
   "cell_type": "code",
   "execution_count": 12,
   "id": "653be871",
   "metadata": {},
   "outputs": [
    {
     "data": {
      "text/plain": [
       "2.9699741820663093"
      ]
     },
     "execution_count": 12,
     "metadata": {},
     "output_type": "execute_result"
    }
   ],
   "source": [
    "mean_diff = mu1 - mu2\n",
    "mean_diff"
   ]
  },
  {
   "cell_type": "code",
   "execution_count": 13,
   "id": "373d9b37",
   "metadata": {},
   "outputs": [],
   "source": [
    "mu_not = 0"
   ]
  },
  {
   "cell_type": "code",
   "execution_count": 14,
   "id": "e1232946",
   "metadata": {},
   "outputs": [
    {
     "data": {
      "text/plain": [
       "3.528749804721871"
      ]
     },
     "execution_count": 14,
     "metadata": {},
     "output_type": "execute_result"
    }
   ],
   "source": [
    "t_stat = (mean_diff - mu_not)/se\n",
    "t_stat"
   ]
  },
  {
   "cell_type": "code",
   "execution_count": 15,
   "id": "9a7e34cb",
   "metadata": {},
   "outputs": [
    {
     "data": {
      "text/plain": [
       "0.0004175276729334598"
      ]
     },
     "execution_count": 15,
     "metadata": {},
     "output_type": "execute_result"
    }
   ],
   "source": [
    "# Calculate two-tailed p-value\n",
    "from scipy.stats import norm\n",
    "p_value = 2 * (1 - norm.cdf(abs(t_stat)))\n",
    "p_value"
   ]
  },
  {
   "cell_type": "code",
   "execution_count": 16,
   "id": "054a316a",
   "metadata": {},
   "outputs": [
    {
     "data": {
      "text/plain": [
       "(3.5379102169196024, 0.00040330717024595334)"
      ]
     },
     "execution_count": 16,
     "metadata": {},
     "output_type": "execute_result"
    }
   ],
   "source": [
    "# Using python statmodel libraby\n",
    "t_stat,p_val = sm.stats.ztest(positive_case[\"Age\"].dropna(), negative_case[\"Age\"].dropna())\n",
    "t_stat,p_val"
   ]
  },
  {
   "cell_type": "code",
   "execution_count": 17,
   "id": "725ff27d",
   "metadata": {},
   "outputs": [
    {
     "name": "stdout",
     "output_type": "stream",
     "text": [
      "Reject the null hypothesis.\n"
     ]
    }
   ],
   "source": [
    "# Decision\n",
    "alpha = 0.05\n",
    "if p_value < alpha:\n",
    "    print(\"Reject the null hypothesis.\")\n",
    "else:\n",
    "    print(\"Fail to reject the null hypothesis.\")"
   ]
  },
  {
   "cell_type": "markdown",
   "id": "42246db1",
   "metadata": {},
   "source": [
    "Therefore, we reject the null hypothesis, indicating that there is no statistically significant difference in the mean age of patients with positive dengue test results compared to those with negative results. This suggests that age may not be a determining factor in the likelihood of testing positive for dengue in this sample."
   ]
  },
  {
   "cell_type": "markdown",
   "id": "0e44e4dc",
   "metadata": {},
   "source": [
    "### 2.Two Mean Proportion - Gender and Dengue Result\n",
    "#### Research Question \n",
    "Is there a significant association between gender and dengue test results (positive and negative)?\n",
    "\n",
    "**Population**: Population with positive/negetive test result</br>\n",
    "**Parameter of Interest**: Proportion  \n",
    "\n",
    "**Null Hypothesis:** $P(Male | Positive)=P(Male | Negative)$</br>\n",
    "                     $And P(Female | Positive)=P(Female | Negative)$</br>\n",
    "                     \n",
    "**Alternative Hypthosis:**  $P(Male | Positive) \\neq P(Male | Negative)$</br>\n",
    "                      $ And P(Female | Positive) \\neq P(Female | Negative)$ (this is a Two-sided test)</br>"
   ]
  },
  {
   "cell_type": "code",
   "execution_count": 18,
   "id": "2858a361",
   "metadata": {},
   "outputs": [
    {
     "data": {
      "text/html": [
       "<div>\n",
       "<style scoped>\n",
       "    .dataframe tbody tr th:only-of-type {\n",
       "        vertical-align: middle;\n",
       "    }\n",
       "\n",
       "    .dataframe tbody tr th {\n",
       "        vertical-align: top;\n",
       "    }\n",
       "\n",
       "    .dataframe thead th {\n",
       "        text-align: right;\n",
       "    }\n",
       "</style>\n",
       "<table border=\"1\" class=\"dataframe\">\n",
       "  <thead>\n",
       "    <tr style=\"text-align: right;\">\n",
       "      <th>Result</th>\n",
       "      <th>negative</th>\n",
       "      <th>positive</th>\n",
       "    </tr>\n",
       "    <tr>\n",
       "      <th>Gender</th>\n",
       "      <th></th>\n",
       "      <th></th>\n",
       "    </tr>\n",
       "  </thead>\n",
       "  <tbody>\n",
       "    <tr>\n",
       "      <th>Female</th>\n",
       "      <td>250</td>\n",
       "      <td>555</td>\n",
       "    </tr>\n",
       "    <tr>\n",
       "      <th>Male</th>\n",
       "      <td>231</td>\n",
       "      <td>487</td>\n",
       "    </tr>\n",
       "  </tbody>\n",
       "</table>\n",
       "</div>"
      ],
      "text/plain": [
       "Result  negative  positive\n",
       "Gender                    \n",
       "Female       250       555\n",
       "Male         231       487"
      ]
     },
     "execution_count": 18,
     "metadata": {},
     "output_type": "execute_result"
    }
   ],
   "source": [
    "from scipy.stats import chi2_contingency\n",
    "\n",
    "# Create a contingency table\n",
    "contingency_table = pd.crosstab(df['Gender'], df['Result'])\n",
    "contingency_table"
   ]
  },
  {
   "cell_type": "code",
   "execution_count": 19,
   "id": "cd9044af",
   "metadata": {},
   "outputs": [
    {
     "name": "stdout",
     "output_type": "stream",
     "text": [
      "\n",
      "Chi-Square Test Results:\n",
      "Chi-Square Statistic: 0.17042191196854448\n",
      "P-Value: 0.67973711310025\n",
      "Degrees of Freedom: 1\n",
      "\n",
      "Expected Frequencies:\n",
      "[[254.23834537 550.76165463]\n",
      " [226.76165463 491.23834537]]\n"
     ]
    }
   ],
   "source": [
    "# Perform Chi-Square Test\n",
    "chi2_stat, p_value, dof, expected = chi2_contingency(contingency_table)\n",
    "print(\"\\nChi-Square Test Results:\")\n",
    "print(f\"Chi-Square Statistic: {chi2_stat}\")\n",
    "print(f\"P-Value: {p_value}\")\n",
    "print(f\"Degrees of Freedom: {dof}\")\n",
    "print(\"\\nExpected Frequencies:\")\n",
    "print(expected)"
   ]
  },
  {
   "cell_type": "code",
   "execution_count": 20,
   "id": "5b744ec2",
   "metadata": {},
   "outputs": [
    {
     "name": "stdout",
     "output_type": "stream",
     "text": [
      "\n",
      "Fail to reject the null hypothesis: There is no significant association between Gender and Result.\n"
     ]
    }
   ],
   "source": [
    "# Decision \n",
    "alpha = 0.05  # Significance level\n",
    "if p_value < alpha:\n",
    "    print(\"\\nReject the null hypothesis: There is a significant association between Gender and Result.\")\n",
    "else:\n",
    "    print(\"\\nFail to reject the null hypothesis: There is no significant association between Gender and Result.\")"
   ]
  },
  {
   "cell_type": "markdown",
   "id": "d292632e",
   "metadata": {},
   "source": [
    "Fail to reject the null hypothesis: There is no significant association between Gender and Result. This suggests that the distribution of dengue test results (positive or negative) is similar across different genders, indicating that gender does not appear to influence the likelihood of testing positive or negative for dengue in this population."
   ]
  },
  {
   "cell_type": "markdown",
   "id": "d6e7d8b8",
   "metadata": {},
   "source": [
    "### 3.Two Mean Difference - Himoglobin Level and Dengue Result\n",
    "#### Research Question \n",
    "Is the mean hemoglobin level higher in patients with a positive dengue test result compared to those with a negative result?\n",
    "\n",
    "**Population**: Population with positive/negetive test result</br>\n",
    "**Parameter of Interest**: $\\mu_1 - \\mu_2$, Hemoglobin levels.  \n",
    "**Null Hypothesis:** $\\mu_1 = \\mu_2$  \n",
    "**Alternative Hypthosis:** $\\mu_1 > \\mu_2$  (this is a Two-sided test)</br>"
   ]
  },
  {
   "cell_type": "code",
   "execution_count": 24,
   "id": "058cd9d0",
   "metadata": {},
   "outputs": [
    {
     "data": {
      "image/png": "[encoded data removed]",
      "text/plain": [
       "<Figure size 640x480 with 1 Axes>"
      ]
     },
     "metadata": {},
     "output_type": "display_data"
    }
   ],
   "source": [
    "sns.kdeplot(positive_case['Hemoglobin(g/dl)'], label='test_positive', color='blue', alpha=0.5)\n",
    "sns.kdeplot(negative_case['Hemoglobin(g/dl)'], label='test_negative', color='red', alpha=0.5)\n",
    "\n",
    "# Calculate means for the two groups\n",
    "mean1 = np.mean(positive_case['Hemoglobin(g/dl)'])\n",
    "mean2 = np.mean(negative_case['Hemoglobin(g/dl)'])\n",
    "\n",
    "# Add points or lines for means\n",
    "plt.axvline(mean1, color='blue', linestyle='-', label=f' Mean1 ({mean1:.2f})')\n",
    "plt.axvline(mean2, color='red', linestyle='-', label=f' Mean2 ({mean2:.2f})')\n",
    "\n",
    "plt.title(\"Distribution of  Hemoglobin(g/dl) Level for Two Groups(positive and negative)\")\n",
    "plt.xlabel(\"Value\")\n",
    "plt.ylabel(\"Density\")\n",
    "plt.legend()\n",
    "plt.show()"
   ]
  },
  {
   "cell_type": "code",
   "execution_count": 22,
   "id": "1ec80b8f",
   "metadata": {},
   "outputs": [
    {
     "name": "stdout",
     "output_type": "stream",
     "text": [
      "T-statistic: -0.7721551552791409\n",
      "P-value: 0.7799287527711065\n"
     ]
    }
   ],
   "source": [
    "t_stat, p_value = stats.ttest_ind(positive_case['Hemoglobin(g/dl)'], negative_case['Hemoglobin(g/dl)'], alternative='greater')\n",
    "print(f\"T-statistic: {t_stat}\")\n",
    "print(f\"P-value: {p_value}\")"
   ]
  },
  {
   "cell_type": "code",
   "execution_count": 23,
   "id": "84e4a250",
   "metadata": {},
   "outputs": [
    {
     "name": "stdout",
     "output_type": "stream",
     "text": [
      "Fail to reject the null hypothesis: No significant difference in mean hemoglobin levels.\n"
     ]
    }
   ],
   "source": [
    "alpha = 0.05  # significance level\n",
    "if p_value < alpha:\n",
    "    print(\"Reject the null hypothesis: Mean hemoglobin level is significantly higher in positive dengue patients.\")\n",
    "else:\n",
    "    print(\"Fail to reject the null hypothesis: No significant difference in mean hemoglobin levels.\")"
   ]
  },
  {
   "cell_type": "markdown",
   "id": "fc9a9b0e",
   "metadata": {},
   "source": [
    "We fail to reject the null hypothesis: There is no significant difference in the mean hemoglobin level between patients with a positive dengue test result and those with a negative result. This indicates that the mean hemoglobin levels are similar in both groups, suggesting that hemoglobin levels may not be a reliable indicator of dengue infection status in this population."
   ]
  }
 ],
 "metadata": {
  "kernelspec": {
   "display_name": "Python 3 (ipykernel)",
   "language": "python",
   "name": "python3"
  },
  "language_info": {
   "codemirror_mode": {
    "name": "ipython",
    "version": 3
   },
   "file_extension": ".py",
   "mimetype": "text/x-python",
   "name": "python",
   "nbconvert_exporter": "python",
   "pygments_lexer": "ipython3",
   "version": "3.11.4"
  }
 },
 "nbformat": 4,
 "nbformat_minor": 5
}
